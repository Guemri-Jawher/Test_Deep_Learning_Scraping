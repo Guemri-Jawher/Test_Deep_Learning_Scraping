{
 "cells": [
  {
   "cell_type": "code",
   "execution_count": 1,
   "id": "7d6ba0c7",
   "metadata": {
    "scrolled": true
   },
   "outputs": [
    {
     "name": "stdout",
     "output_type": "stream",
     "text": [
      "Requirement already satisfied: selenium in c:\\users\\jawhe\\anaconda3\\lib\\site-packages (4.6.1)\n",
      "Requirement already satisfied: certifi>=2021.10.8 in c:\\users\\jawhe\\anaconda3\\lib\\site-packages (from selenium) (2021.10.8)\n",
      "Requirement already satisfied: urllib3[socks]~=1.26 in c:\\users\\jawhe\\anaconda3\\lib\\site-packages (from selenium) (1.26.9)\n",
      "Requirement already satisfied: trio~=0.17 in c:\\users\\jawhe\\anaconda3\\lib\\site-packages (from selenium) (0.22.0)\n",
      "Requirement already satisfied: trio-websocket~=0.9 in c:\\users\\jawhe\\anaconda3\\lib\\site-packages (from selenium) (0.9.2)\n",
      "Requirement already satisfied: sortedcontainers in c:\\users\\jawhe\\anaconda3\\lib\\site-packages (from trio~=0.17->selenium) (2.4.0)\n",
      "Requirement already satisfied: sniffio in c:\\users\\jawhe\\anaconda3\\lib\\site-packages (from trio~=0.17->selenium) (1.2.0)\n",
      "Requirement already satisfied: attrs>=19.2.0 in c:\\users\\jawhe\\anaconda3\\lib\\site-packages (from trio~=0.17->selenium) (21.4.0)\n",
      "Requirement already satisfied: cffi>=1.14 in c:\\users\\jawhe\\anaconda3\\lib\\site-packages (from trio~=0.17->selenium) (1.15.0)\n",
      "Requirement already satisfied: exceptiongroup>=1.0.0rc9 in c:\\users\\jawhe\\anaconda3\\lib\\site-packages (from trio~=0.17->selenium) (1.0.4)\n",
      "Requirement already satisfied: outcome in c:\\users\\jawhe\\anaconda3\\lib\\site-packages (from trio~=0.17->selenium) (1.2.0)\n",
      "Requirement already satisfied: async-generator>=1.9 in c:\\users\\jawhe\\anaconda3\\lib\\site-packages (from trio~=0.17->selenium) (1.10)\n",
      "Requirement already satisfied: idna in c:\\users\\jawhe\\anaconda3\\lib\\site-packages (from trio~=0.17->selenium) (3.3)\n",
      "Requirement already satisfied: pycparser in c:\\users\\jawhe\\anaconda3\\lib\\site-packages (from cffi>=1.14->trio~=0.17->selenium) (2.21)\n",
      "Requirement already satisfied: wsproto>=0.14 in c:\\users\\jawhe\\anaconda3\\lib\\site-packages (from trio-websocket~=0.9->selenium) (1.2.0)\n",
      "Requirement already satisfied: PySocks!=1.5.7,<2.0,>=1.5.6 in c:\\users\\jawhe\\anaconda3\\lib\\site-packages (from urllib3[socks]~=1.26->selenium) (1.7.1)\n",
      "Requirement already satisfied: h11<1,>=0.9.0 in c:\\users\\jawhe\\anaconda3\\lib\\site-packages (from wsproto>=0.14->trio-websocket~=0.9->selenium) (0.14.0)\n",
      "Requirement already satisfied: webdriver_manager in c:\\users\\jawhe\\anaconda3\\lib\\site-packages (3.8.5)\n",
      "Requirement already satisfied: requests in c:\\users\\jawhe\\anaconda3\\lib\\site-packages (from webdriver_manager) (2.27.1)\n",
      "Requirement already satisfied: packaging in c:\\users\\jawhe\\anaconda3\\lib\\site-packages (from webdriver_manager) (21.3)\n",
      "Requirement already satisfied: tqdm in c:\\users\\jawhe\\anaconda3\\lib\\site-packages (from webdriver_manager) (4.64.0)\n",
      "Requirement already satisfied: python-dotenv in c:\\users\\jawhe\\anaconda3\\lib\\site-packages (from webdriver_manager) (0.21.0)\n",
      "Requirement already satisfied: pyparsing!=3.0.5,>=2.0.2 in c:\\users\\jawhe\\anaconda3\\lib\\site-packages (from packaging->webdriver_manager) (3.0.4)\n",
      "Requirement already satisfied: certifi>=2017.4.17 in c:\\users\\jawhe\\anaconda3\\lib\\site-packages (from requests->webdriver_manager) (2021.10.8)\n",
      "Requirement already satisfied: urllib3<1.27,>=1.21.1 in c:\\users\\jawhe\\anaconda3\\lib\\site-packages (from requests->webdriver_manager) (1.26.9)\n",
      "Requirement already satisfied: idna<4,>=2.5 in c:\\users\\jawhe\\anaconda3\\lib\\site-packages (from requests->webdriver_manager) (3.3)\n",
      "Requirement already satisfied: charset-normalizer~=2.0.0 in c:\\users\\jawhe\\anaconda3\\lib\\site-packages (from requests->webdriver_manager) (2.0.4)\n",
      "Requirement already satisfied: colorama in c:\\users\\jawhe\\anaconda3\\lib\\site-packages (from tqdm->webdriver_manager) (0.4.4)\n"
     ]
    }
   ],
   "source": [
    "!pip install selenium\n",
    "!pip install webdriver_manager"
   ]
  },
  {
   "cell_type": "code",
   "execution_count": 2,
   "id": "0cada734",
   "metadata": {},
   "outputs": [
    {
     "name": "stderr",
     "output_type": "stream",
     "text": [
      "C:\\Users\\jawhe\\AppData\\Local\\Temp\\ipykernel_17548\\2097479031.py:17: DeprecationWarning: executable_path has been deprecated, please pass in a Service object\n",
      "  self.driver = webdriver.Chrome(executable_path=ChromeDriverManager(\"104.0.5112.79\").install())\n"
     ]
    },
    {
     "ename": "TimeoutException",
     "evalue": "Message: \nStacktrace:\nBacktrace:\n\tOrdinal0 [0x003278B3+2193587]\n\tOrdinal0 [0x002C0681+1771137]\n\tOrdinal0 [0x001D41A8+803240]\n\tOrdinal0 [0x002024A0+992416]\n\tOrdinal0 [0x0020273B+993083]\n\tOrdinal0 [0x0022F7C2+1177538]\n\tOrdinal0 [0x0021D7F4+1103860]\n\tOrdinal0 [0x0022DAE2+1170146]\n\tOrdinal0 [0x0021D5C6+1103302]\n\tOrdinal0 [0x001F77E0+948192]\n\tOrdinal0 [0x001F86E6+952038]\n\tGetHandleVerifier [0x005D0CB2+2738370]\n\tGetHandleVerifier [0x005C21B8+2678216]\n\tGetHandleVerifier [0x003B17AA+512954]\n\tGetHandleVerifier [0x003B0856+509030]\n\tOrdinal0 [0x002C743B+1799227]\n\tOrdinal0 [0x002CBB68+1817448]\n\tOrdinal0 [0x002CBC55+1817685]\n\tOrdinal0 [0x002D5230+1856048]\n\tBaseThreadInitThunk [0x76EBFEF9+25]\n\tRtlGetAppContainerNamedObjectPath [0x775E7BBE+286]\n\tRtlGetAppContainerNamedObjectPath [0x775E7B8E+238]\n",
     "output_type": "error",
     "traceback": [
      "\u001b[1;31m---------------------------------------------------------------------------\u001b[0m",
      "\u001b[1;31mTimeoutException\u001b[0m                          Traceback (most recent call last)",
      "Input \u001b[1;32mIn [2]\u001b[0m, in \u001b[0;36m<cell line: 46>\u001b[1;34m()\u001b[0m\n\u001b[0;32m     48\u001b[0m fb_login \u001b[38;5;241m=\u001b[39m FacebookLogin(email\u001b[38;5;241m=\u001b[39m\u001b[38;5;124m'\u001b[39m\u001b[38;5;124msample@example.com\u001b[39m\u001b[38;5;124m'\u001b[39m, password\u001b[38;5;241m=\u001b[39m\u001b[38;5;124m'\u001b[39m\u001b[38;5;124mPASSWORD\u001b[39m\u001b[38;5;124m'\u001b[39m, browser\u001b[38;5;241m=\u001b[39m\u001b[38;5;124m'\u001b[39m\u001b[38;5;124mChrome\u001b[39m\u001b[38;5;124m'\u001b[39m)\n\u001b[0;32m     49\u001b[0m fb_login\u001b[38;5;241m.\u001b[39mlogin()\n\u001b[1;32m---> 50\u001b[0m \u001b[43mfb_login\u001b[49m\u001b[38;5;241;43m.\u001b[39;49m\u001b[43msearch\u001b[49m\u001b[43m(\u001b[49m\u001b[43m)\u001b[49m\n",
      "Input \u001b[1;32mIn [2]\u001b[0m, in \u001b[0;36mFacebookLogin.search\u001b[1;34m(self)\u001b[0m\n\u001b[0;32m     36\u001b[0m \u001b[38;5;28;01mdef\u001b[39;00m \u001b[38;5;21msearch\u001b[39m (\u001b[38;5;28mself\u001b[39m):\n\u001b[1;32m---> 37\u001b[0m     search \u001b[38;5;241m=\u001b[39m \u001b[43mWebDriverWait\u001b[49m\u001b[43m(\u001b[49m\u001b[38;5;28;43mself\u001b[39;49m\u001b[38;5;241;43m.\u001b[39;49m\u001b[43mdriver\u001b[49m\u001b[43m,\u001b[49m\u001b[43m \u001b[49m\u001b[38;5;241;43m10\u001b[39;49m\u001b[43m)\u001b[49m\u001b[38;5;241;43m.\u001b[39;49m\u001b[43muntil\u001b[49m\u001b[43m(\u001b[49m\u001b[43mEC\u001b[49m\u001b[38;5;241;43m.\u001b[39;49m\u001b[43melement_to_be_clickable\u001b[49m\u001b[43m(\u001b[49m\u001b[43m(\u001b[49m\u001b[43mBy\u001b[49m\u001b[38;5;241;43m.\u001b[39;49m\u001b[43mCSS_SELECTOR\u001b[49m\u001b[43m,\u001b[49m\u001b[43m \u001b[49m\u001b[38;5;124;43m\"\u001b[39;49m\u001b[38;5;124;43minput[name=\u001b[39;49m\u001b[38;5;124;43m'\u001b[39;49m\u001b[38;5;124;43mquery\u001b[39;49m\u001b[38;5;124;43m'\u001b[39;49m\u001b[38;5;124;43m]\u001b[39;49m\u001b[38;5;124;43m\"\u001b[39;49m\u001b[43m)\u001b[49m\u001b[43m)\u001b[49m\u001b[43m)\u001b[49m\n\u001b[0;32m     39\u001b[0m     search\u001b[38;5;241m.\u001b[39mclear()\n\u001b[0;32m     40\u001b[0m     search\u001b[38;5;241m.\u001b[39msend_keys(\u001b[38;5;124m\"\u001b[39m\u001b[38;5;124mle décès du président Jacques Chirac\u001b[39m\u001b[38;5;124m\"\u001b[39m)\n",
      "File \u001b[1;32m~\\anaconda3\\lib\\site-packages\\selenium\\webdriver\\support\\wait.py:95\u001b[0m, in \u001b[0;36mWebDriverWait.until\u001b[1;34m(self, method, message)\u001b[0m\n\u001b[0;32m     93\u001b[0m     \u001b[38;5;28;01mif\u001b[39;00m time\u001b[38;5;241m.\u001b[39mmonotonic() \u001b[38;5;241m>\u001b[39m end_time:\n\u001b[0;32m     94\u001b[0m         \u001b[38;5;28;01mbreak\u001b[39;00m\n\u001b[1;32m---> 95\u001b[0m \u001b[38;5;28;01mraise\u001b[39;00m TimeoutException(message, screen, stacktrace)\n",
      "\u001b[1;31mTimeoutException\u001b[0m: Message: \nStacktrace:\nBacktrace:\n\tOrdinal0 [0x003278B3+2193587]\n\tOrdinal0 [0x002C0681+1771137]\n\tOrdinal0 [0x001D41A8+803240]\n\tOrdinal0 [0x002024A0+992416]\n\tOrdinal0 [0x0020273B+993083]\n\tOrdinal0 [0x0022F7C2+1177538]\n\tOrdinal0 [0x0021D7F4+1103860]\n\tOrdinal0 [0x0022DAE2+1170146]\n\tOrdinal0 [0x0021D5C6+1103302]\n\tOrdinal0 [0x001F77E0+948192]\n\tOrdinal0 [0x001F86E6+952038]\n\tGetHandleVerifier [0x005D0CB2+2738370]\n\tGetHandleVerifier [0x005C21B8+2678216]\n\tGetHandleVerifier [0x003B17AA+512954]\n\tGetHandleVerifier [0x003B0856+509030]\n\tOrdinal0 [0x002C743B+1799227]\n\tOrdinal0 [0x002CBB68+1817448]\n\tOrdinal0 [0x002CBC55+1817685]\n\tOrdinal0 [0x002D5230+1856048]\n\tBaseThreadInitThunk [0x76EBFEF9+25]\n\tRtlGetAppContainerNamedObjectPath [0x775E7BBE+286]\n\tRtlGetAppContainerNamedObjectPath [0x775E7B8E+238]\n"
     ]
    }
   ],
   "source": [
    "from selenium import webdriver\n",
    "from webdriver_manager.chrome import ChromeDriverManager\n",
    "import time\n",
    "from selenium.webdriver.common.by import By\n",
    "from selenium.webdriver.support.ui import WebDriverWait\n",
    "from selenium.webdriver.support import expected_conditions as EC\n",
    " \n",
    "LOGIN_URL = 'https://www.facebook.com/login.php'\n",
    " \n",
    "class FacebookLogin():\n",
    "    def __init__(self, email, password, browser='Chrome'):\n",
    "        # Store credentials for login\n",
    "        self.email = email\n",
    "        self.password = password\n",
    "        if browser == 'Chrome':\n",
    "            # Use chrome\n",
    "            self.driver = webdriver.Chrome(executable_path=ChromeDriverManager(\"104.0.5112.79\").install())\n",
    "\n",
    "        self.driver.get(LOGIN_URL)\n",
    "        time.sleep(1) # Wait for some time to load\n",
    " \n",
    " \n",
    " \n",
    "    def login(self):\n",
    "        email_element = self.driver.find_element(By.ID,'email')\n",
    "        email_element.send_keys(self.email) # Give keyboard input\n",
    " \n",
    "        password_element = self.driver.find_element(By.ID,'pass')\n",
    "        password_element.send_keys(self.password) # Give password as input too\n",
    " \n",
    "        login_button = self.driver.find_element(By.ID, 'loginbutton')\n",
    "        login_button.click() # Send mouse click\n",
    " \n",
    "        time.sleep(2) # Wait for 2 seconds for the page to show up\n",
    "    \n",
    "    def search (self):\n",
    "        search = WebDriverWait(self.driver, 10).until(EC.element_to_be_clickable((By.CSS_SELECTOR, \"input[name='query']\")))\n",
    "\n",
    "        search.clear()\n",
    "        search.send_keys(\"le décès du président Jacques Chirac\")\n",
    "\n",
    "        login_btn = browser.find_element(By.XPATH,'//*[@id=\"header\"]/form/table/tbody/tr/td[3]/input')\n",
    "        login_btn.click()\n",
    " \n",
    " \n",
    "if __name__ == '__main__':\n",
    "    # Enter your login credentials here\n",
    "    fb_login = FacebookLogin(email='sample@example.com', password='PASSWORD', browser='Chrome')\n",
    "    fb_login.login()\n",
    "    fb_login.search()"
   ]
  },
  {
   "cell_type": "code",
   "execution_count": 3,
   "id": "19c89a33",
   "metadata": {},
   "outputs": [],
   "source": [
    "import pymongo\n",
    "import requests\n",
    "from time import sleep\n",
    "import urllib.request\n",
    "import os"
   ]
  },
  {
   "cell_type": "code",
   "execution_count": 4,
   "id": "0dbfeec8",
   "metadata": {},
   "outputs": [
    {
     "ename": "SyntaxError",
     "evalue": "(unicode error) 'unicodeescape' codec can't decode bytes in position 2-3: truncated \\UXXXXXXXX escape (2132584069.py, line 2)",
     "output_type": "error",
     "traceback": [
      "\u001b[1;36m  Input \u001b[1;32mIn [4]\u001b[1;36m\u001b[0m\n\u001b[1;33m    default_dir = os.path.join(list_dir,\"C:\\Users\\jawhe\\Desktop\\test_Smart_Conseil\")\u001b[0m\n\u001b[1;37m                                                                                   ^\u001b[0m\n\u001b[1;31mSyntaxError\u001b[0m\u001b[1;31m:\u001b[0m (unicode error) 'unicodeescape' codec can't decode bytes in position 2-3: truncated \\UXXXXXXXX escape\n"
     ]
    }
   ],
   "source": [
    "list_dir=\"C:\\\\\"\n",
    "default_dir = os.path.join(list_dir,\"C:\\Users\\jawhe\\Desktop\\test_Smart_Conseil\")\n",
    "opener = urllib.request.build_opener()\n",
    "urllib.request.install_opener(opener)"
   ]
  },
  {
   "cell_type": "code",
   "execution_count": 5,
   "id": "ccbe5439",
   "metadata": {},
   "outputs": [
    {
     "ename": "NameError",
     "evalue": "name 'browser' is not defined",
     "output_type": "error",
     "traceback": [
      "\u001b[1;31m---------------------------------------------------------------------------\u001b[0m",
      "\u001b[1;31mNameError\u001b[0m                                 Traceback (most recent call last)",
      "Input \u001b[1;32mIn [5]\u001b[0m, in \u001b[0;36m<cell line: 2>\u001b[1;34m()\u001b[0m\n\u001b[0;32m      1\u001b[0m \u001b[38;5;28;01mfrom\u001b[39;00m \u001b[38;5;21;01mbs4\u001b[39;00m \u001b[38;5;28;01mimport\u001b[39;00m BeautifulSoup\n\u001b[1;32m----> 2\u001b[0m posts \u001b[38;5;241m=\u001b[39m \u001b[43mbrowser\u001b[49m\u001b[38;5;241m.\u001b[39mfind_element(By\u001b[38;5;241m.\u001b[39mXPATH,\u001b[38;5;124m'\u001b[39m\u001b[38;5;124m//*[@id=\u001b[39m\u001b[38;5;124m\"\u001b[39m\u001b[38;5;124mroot\u001b[39m\u001b[38;5;124m\"\u001b[39m\u001b[38;5;124m]/div[1]\u001b[39m\u001b[38;5;124m'\u001b[39m)\n\u001b[0;32m      3\u001b[0m links \u001b[38;5;241m=\u001b[39m posts\u001b[38;5;241m.\u001b[39mfind_elements_by_link_text(\u001b[38;5;124m\"\u001b[39m\u001b[38;5;124mActualité intégrale\u001b[39m\u001b[38;5;124m\"\u001b[39m)\n\u001b[0;32m      4\u001b[0m pubs \u001b[38;5;241m=\u001b[39m []\n",
      "\u001b[1;31mNameError\u001b[0m: name 'browser' is not defined"
     ]
    }
   ],
   "source": [
    "from bs4 import BeautifulSoup\n",
    "posts = browser.find_element(By.XPATH,'//*[@id=\"root\"]/div[1]')\n",
    "links = posts.find_elements_by_link_text(\"Actualité intégrale\")\n",
    "pubs = []\n",
    "for link in links:\n",
    "    pub = {}\n",
    "    page_content = requests.get(link.get_attribute('href')).content\n",
    "    soup = BeautifulSoup(page_content, 'html.parser')\n",
    "    #get post text\n",
    "    pub['text'] = soup.p.text\n",
    "    pub['image'] = soup.img[\"src\"]\n",
    "    img_url = soup.img[\"src\"]\n",
    "    filename = os.path.join(default_dir, img_url.split(\"/\")[-1])\n",
    "    img_data = opener.open(img_url)\n",
    "    f = open(filename,\"wb\")\n",
    "    f.write(img_data.read())\n",
    "    f.close()\n",
    "    pubs.append(pub)"
   ]
  },
  {
   "cell_type": "markdown",
   "id": "6e143d24",
   "metadata": {},
   "source": [
    "faire une remote SSH connexion car mongoDB server is on my linux machine "
   ]
  },
  {
   "cell_type": "code",
   "execution_count": 6,
   "id": "1084379f",
   "metadata": {
    "scrolled": true
   },
   "outputs": [
    {
     "name": "stderr",
     "output_type": "stream",
     "text": [
      "2022-11-29 11:46:03,209| ERROR   | Could not connect to gateway 192.168.56.103:22 : Unable to connect to 192.168.56.103: [WinError 10060] Une tentative de connexion a échoué car le parti connecté n’a pas répondu convenablement au-delà d’une certaine durée ou une connexion établie a échoué car l’hôte de connexion n’a pas répondu\n"
     ]
    },
    {
     "ename": "BaseSSHTunnelForwarderError",
     "evalue": "Could not establish session to SSH gateway",
     "output_type": "error",
     "traceback": [
      "\u001b[1;31m---------------------------------------------------------------------------\u001b[0m",
      "\u001b[1;31mBaseSSHTunnelForwarderError\u001b[0m               Traceback (most recent call last)",
      "Input \u001b[1;32mIn [6]\u001b[0m, in \u001b[0;36m<cell line: 17>\u001b[1;34m()\u001b[0m\n\u001b[0;32m      8\u001b[0m MONGO_PASS \u001b[38;5;241m=\u001b[39m \u001b[38;5;124m\"\u001b[39m\u001b[38;5;124m******\u001b[39m\u001b[38;5;124m\"\u001b[39m\n\u001b[0;32m     10\u001b[0m server \u001b[38;5;241m=\u001b[39m SSHTunnelForwarder(\n\u001b[0;32m     11\u001b[0m     MONGO_HOST,\n\u001b[0;32m     12\u001b[0m     ssh_username\u001b[38;5;241m=\u001b[39mMONGO_USER,\n\u001b[0;32m     13\u001b[0m     ssh_password\u001b[38;5;241m=\u001b[39mMONGO_PASS,\n\u001b[0;32m     14\u001b[0m     remote_bind_address\u001b[38;5;241m=\u001b[39m(\u001b[38;5;124m'\u001b[39m\u001b[38;5;124m127.0.0.1\u001b[39m\u001b[38;5;124m'\u001b[39m, \u001b[38;5;241m27017\u001b[39m)\n\u001b[0;32m     15\u001b[0m )\n\u001b[1;32m---> 17\u001b[0m \u001b[43mserver\u001b[49m\u001b[38;5;241;43m.\u001b[39;49m\u001b[43mstart\u001b[49m\u001b[43m(\u001b[49m\u001b[43m)\u001b[49m\n\u001b[0;32m     19\u001b[0m client \u001b[38;5;241m=\u001b[39m pymongo\u001b[38;5;241m.\u001b[39mMongoClient(\u001b[38;5;124m'\u001b[39m\u001b[38;5;124m127.0.0.1\u001b[39m\u001b[38;5;124m'\u001b[39m, server\u001b[38;5;241m.\u001b[39mlocal_bind_port) \u001b[38;5;66;03m# server.local_bind_port is assigned local port\u001b[39;00m\n\u001b[0;32m     20\u001b[0m db \u001b[38;5;241m=\u001b[39m client[MONGO_DB]\n",
      "File \u001b[1;32m~\\anaconda3\\lib\\site-packages\\sshtunnel.py:1331\u001b[0m, in \u001b[0;36mSSHTunnelForwarder.start\u001b[1;34m(self)\u001b[0m\n\u001b[0;32m   1329\u001b[0m \u001b[38;5;28mself\u001b[39m\u001b[38;5;241m.\u001b[39m_create_tunnels()\n\u001b[0;32m   1330\u001b[0m \u001b[38;5;28;01mif\u001b[39;00m \u001b[38;5;129;01mnot\u001b[39;00m \u001b[38;5;28mself\u001b[39m\u001b[38;5;241m.\u001b[39mis_active:\n\u001b[1;32m-> 1331\u001b[0m     \u001b[38;5;28;43mself\u001b[39;49m\u001b[38;5;241;43m.\u001b[39;49m\u001b[43m_raise\u001b[49m\u001b[43m(\u001b[49m\u001b[43mBaseSSHTunnelForwarderError\u001b[49m\u001b[43m,\u001b[49m\n\u001b[0;32m   1332\u001b[0m \u001b[43m                \u001b[49m\u001b[43mreason\u001b[49m\u001b[38;5;241;43m=\u001b[39;49m\u001b[38;5;124;43m'\u001b[39;49m\u001b[38;5;124;43mCould not establish session to SSH gateway\u001b[39;49m\u001b[38;5;124;43m'\u001b[39;49m\u001b[43m)\u001b[49m\n\u001b[0;32m   1333\u001b[0m \u001b[38;5;28;01mfor\u001b[39;00m _srv \u001b[38;5;129;01min\u001b[39;00m \u001b[38;5;28mself\u001b[39m\u001b[38;5;241m.\u001b[39m_server_list:\n\u001b[0;32m   1334\u001b[0m     thread \u001b[38;5;241m=\u001b[39m threading\u001b[38;5;241m.\u001b[39mThread(\n\u001b[0;32m   1335\u001b[0m         target\u001b[38;5;241m=\u001b[39m\u001b[38;5;28mself\u001b[39m\u001b[38;5;241m.\u001b[39m_serve_forever_wrapper,\n\u001b[0;32m   1336\u001b[0m         args\u001b[38;5;241m=\u001b[39m(_srv, ),\n\u001b[0;32m   1337\u001b[0m         name\u001b[38;5;241m=\u001b[39m\u001b[38;5;124m'\u001b[39m\u001b[38;5;124mSrv-\u001b[39m\u001b[38;5;132;01m{0}\u001b[39;00m\u001b[38;5;124m'\u001b[39m\u001b[38;5;241m.\u001b[39mformat(address_to_str(_srv\u001b[38;5;241m.\u001b[39mlocal_port))\n\u001b[0;32m   1338\u001b[0m     )\n",
      "File \u001b[1;32m~\\anaconda3\\lib\\site-packages\\sshtunnel.py:1174\u001b[0m, in \u001b[0;36mSSHTunnelForwarder._raise\u001b[1;34m(self, exception, reason)\u001b[0m\n\u001b[0;32m   1172\u001b[0m \u001b[38;5;28;01mdef\u001b[39;00m \u001b[38;5;21m_raise\u001b[39m(\u001b[38;5;28mself\u001b[39m, exception\u001b[38;5;241m=\u001b[39mBaseSSHTunnelForwarderError, reason\u001b[38;5;241m=\u001b[39m\u001b[38;5;28;01mNone\u001b[39;00m):\n\u001b[0;32m   1173\u001b[0m     \u001b[38;5;28;01mif\u001b[39;00m \u001b[38;5;28mself\u001b[39m\u001b[38;5;241m.\u001b[39m_raise_fwd_exc:\n\u001b[1;32m-> 1174\u001b[0m         \u001b[38;5;28;01mraise\u001b[39;00m exception(reason)\n\u001b[0;32m   1175\u001b[0m     \u001b[38;5;28;01melse\u001b[39;00m:\n\u001b[0;32m   1176\u001b[0m         \u001b[38;5;28mself\u001b[39m\u001b[38;5;241m.\u001b[39mlogger\u001b[38;5;241m.\u001b[39merror(\u001b[38;5;28mrepr\u001b[39m(exception(reason)))\n",
      "\u001b[1;31mBaseSSHTunnelForwarderError\u001b[0m: Could not establish session to SSH gateway"
     ]
    }
   ],
   "source": [
    "from sshtunnel import SSHTunnelForwarder\n",
    "import pymongo\n",
    "import pprint\n",
    "\n",
    "MONGO_HOST = \"192.168.56.103\"\n",
    "MONGO_DB = \"admin\"\n",
    "MONGO_USER = \"jawher\"\n",
    "MONGO_PASS = \"******\"\n",
    "\n",
    "server = SSHTunnelForwarder(\n",
    "    MONGO_HOST,\n",
    "    ssh_username=MONGO_USER,\n",
    "    ssh_password=MONGO_PASS,\n",
    "    remote_bind_address=('127.0.0.1', 27017)\n",
    ")\n",
    "\n",
    "server.start()\n",
    "\n",
    "client = pymongo.MongoClient('127.0.0.1', server.local_bind_port) # server.local_bind_port is assigned local port\n",
    "db = client[MONGO_DB]\n",
    "db.authenticate(\"admin\", \"1234\")\n",
    "db.collection_names()"
   ]
  },
  {
   "cell_type": "code",
   "execution_count": 7,
   "id": "70f20073",
   "metadata": {},
   "outputs": [
    {
     "ename": "NameError",
     "evalue": "name 'client' is not defined",
     "output_type": "error",
     "traceback": [
      "\u001b[1;31m---------------------------------------------------------------------------\u001b[0m",
      "\u001b[1;31mNameError\u001b[0m                                 Traceback (most recent call last)",
      "Input \u001b[1;32mIn [7]\u001b[0m, in \u001b[0;36m<cell line: 1>\u001b[1;34m()\u001b[0m\n\u001b[1;32m----> 1\u001b[0m mydb \u001b[38;5;241m=\u001b[39m \u001b[43mclient\u001b[49m[\u001b[38;5;124m\"\u001b[39m\u001b[38;5;124mtest_smart_conseil\u001b[39m\u001b[38;5;124m\"\u001b[39m]\n\u001b[0;32m      2\u001b[0m mycol \u001b[38;5;241m=\u001b[39m mydb[\u001b[38;5;124m\"\u001b[39m\u001b[38;5;124mscraping\u001b[39m\u001b[38;5;124m\"\u001b[39m]\n\u001b[0;32m      4\u001b[0m \u001b[38;5;66;03m#insert the list of dicts\u001b[39;00m\n",
      "\u001b[1;31mNameError\u001b[0m: name 'client' is not defined"
     ]
    }
   ],
   "source": [
    "mydb = client[\"test_smart_conseil\"]\n",
    "mycol = mydb[\"scraping\"]\n",
    "\n",
    "#insert the list of dicts\n",
    "mycol.insert_many(pubs)"
   ]
  }
 ],
 "metadata": {
  "kernelspec": {
   "display_name": "Python 3 (ipykernel)",
   "language": "python",
   "name": "python3"
  },
  "language_info": {
   "codemirror_mode": {
    "name": "ipython",
    "version": 3
   },
   "file_extension": ".py",
   "mimetype": "text/x-python",
   "name": "python",
   "nbconvert_exporter": "python",
   "pygments_lexer": "ipython3",
   "version": "3.9.12"
  }
 },
 "nbformat": 4,
 "nbformat_minor": 5
}
