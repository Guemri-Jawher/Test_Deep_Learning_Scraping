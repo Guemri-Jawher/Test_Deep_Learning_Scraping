{
 "cells": [
  {
   "cell_type": "code",
   "execution_count": null,
   "id": "741a4c96",
   "metadata": {},
   "outputs": [],
   "source": [
    "!pip install selenium\n",
    "!pip install webdriver_manager"
   ]
  },
  {
   "cell_type": "code",
   "execution_count": null,
   "id": "8c8a5300",
   "metadata": {},
   "outputs": [],
   "source": [
    "from selenium import webdriver\n",
    "from webdriver_manager.chrome import ChromeDriverManager\n",
    "import time\n",
    "from selenium.webdriver.common.by import By\n",
    "from selenium.webdriver.support.ui import WebDriverWait\n",
    "from selenium.webdriver.support import expected_conditions as EC\n",
    " \n",
    "LOGIN_URL = 'https://www.facebook.com/login.php'\n",
    " \n",
    "class FacebookLogin():\n",
    "    def __init__(self, email, password, browser='Chrome'):\n",
    "        # Store credentials for login\n",
    "        self.email = email\n",
    "        self.password = password\n",
    "        if browser == 'Chrome':\n",
    "            # Use chrome\n",
    "            self.driver = webdriver.Chrome(executable_path=ChromeDriverManager(\"104.0.5112.79\").install())\n",
    "\n",
    "        self.driver.get(LOGIN_URL)\n",
    "        time.sleep(1) # Wait for some time to load\n",
    " \n",
    " \n",
    " \n",
    "    def login(self):\n",
    "        email_element = self.driver.find_element(By.ID,'email')\n",
    "        email_element.send_keys(self.email) # Give keyboard input\n",
    " \n",
    "        password_element = self.driver.find_element(By.ID,'pass')\n",
    "        password_element.send_keys(self.password) # Give password as input too\n",
    " \n",
    "        login_button = self.driver.find_element(By.ID, 'loginbutton')\n",
    "        login_button.click() # Send mouse click\n",
    " \n",
    "        time.sleep(2) # Wait for 2 seconds for the page to show up\n",
    "    \n",
    "    def search (self):\n",
    "        search = WebDriverWait(self.driver, 10).until(EC.element_to_be_clickable((By.CSS_SELECTOR, \"input[name='query']\")))\n",
    "\n",
    "        search.clear()\n",
    "        search.send_keys(\"le décès du président Jacques Chirac\")\n",
    "\n",
    "        login_btn = browser.find_element(By.XPATH,'//*[@id=\"header\"]/form/table/tbody/tr/td[3]/input')\n",
    "        login_btn.click()\n",
    " \n",
    " \n",
    "if __name__ == '__main__':\n",
    "    # Enter your login credentials here\n",
    "    fb_login = FacebookLogin(email='sample@example.com', password='PASSWORD', browser='Chrome')\n",
    "    fb_login.login()\n",
    "    fb_login.search()"
   ]
  },
  {
   "cell_type": "code",
   "execution_count": null,
   "id": "833af4f6",
   "metadata": {},
   "outputs": [],
   "source": [
    "import requests\n",
    "import urllib.request\n",
    "import os"
   ]
  },
  {
   "cell_type": "code",
   "execution_count": null,
   "id": "3fe6f43f",
   "metadata": {},
   "outputs": [],
   "source": [
    "list_dir=\"C:\\\\\"\n",
    "default_dir = os.path.join(list_dir,\"C:\\Users\\jawhe\\Desktop\\test_Smart_Conseil\")\n",
    "opener = urllib.request.build_opener()\n",
    "urllib.request.install_opener(opener)"
   ]
  },
  {
   "cell_type": "code",
   "execution_count": null,
   "id": "4452a4a0",
   "metadata": {},
   "outputs": [],
   "source": [
    "from bs4 import BeautifulSoup\n",
    "posts = browser.find_element(By.XPATH,'//*[@id=\"root\"]/div[1]')\n",
    "links = posts.find_elements_by_link_text(\"Actualité intégrale\")\n",
    "pubs = []\n",
    "for link in links:\n",
    "    pub = {}\n",
    "    page_content = requests.get(link.get_attribute('href')).content\n",
    "    soup = BeautifulSoup(page_content, 'html.parser')\n",
    "    #get post text\n",
    "    pub['text'] = soup.p.text\n",
    "    pub['image'] = soup.img[\"src\"]\n",
    "    img_url = soup.img[\"src\"]\n",
    "    filename = os.path.join(default_dir, img_url.split(\"/\")[-1])\n",
    "    img_data = opener.open(img_url)\n",
    "    f = open(filename,\"wb\")\n",
    "    f.write(img_data.read())\n",
    "    f.close()\n",
    "    pubs.append(pub)"
   ]
  },
  {
   "cell_type": "code",
   "execution_count": null,
   "id": "d8e03900",
   "metadata": {},
   "outputs": [],
   "source": [
    "from sshtunnel import SSHTunnelForwarder\n",
    "import pymongo\n",
    "import pprint\n",
    "\n",
    "MONGO_HOST = \"192.168.56.103\"\n",
    "MONGO_DB = \"admin\"\n",
    "MONGO_USER = \"jawher\"\n",
    "MONGO_PASS = \"******\"\n",
    "\n",
    "server = SSHTunnelForwarder(\n",
    "    MONGO_HOST,\n",
    "    ssh_username=MONGO_USER,\n",
    "    ssh_password=MONGO_PASS,\n",
    "    remote_bind_address=('127.0.0.1', 27017)\n",
    ")\n",
    "\n",
    "server.start()\n",
    "\n",
    "client = pymongo.MongoClient('127.0.0.1', server.local_bind_port) # server.local_bind_port is assigned local port\n",
    "db = client[MONGO_DB]\n",
    "db.authenticate(\"admin\", \"1234\")\n",
    "db.collection_names()"
   ]
  },
  {
   "cell_type": "code",
   "execution_count": null,
   "id": "91a4058b",
   "metadata": {},
   "outputs": [],
   "source": [
    "mydb = client[\"test_smart_conseil\"]\n",
    "mycol = mydb[\"scraping\"]\n",
    "\n",
    "#insert the list of dicts\n",
    "mycol.insert_many(pubs)"
   ]
  }
 ],
 "metadata": {
  "kernelspec": {
   "display_name": "Python 3 (ipykernel)",
   "language": "python",
   "name": "python3"
  },
  "language_info": {
   "codemirror_mode": {
    "name": "ipython",
    "version": 3
   },
   "file_extension": ".py",
   "mimetype": "text/x-python",
   "name": "python",
   "nbconvert_exporter": "python",
   "pygments_lexer": "ipython3",
   "version": "3.9.12"
  }
 },
 "nbformat": 4,
 "nbformat_minor": 5
}
